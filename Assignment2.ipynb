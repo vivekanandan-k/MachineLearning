{
 "cells": [
  {
   "cell_type": "markdown",
   "metadata": {},
   "source": [
    "## Write a Python Program to implement your own myreduce() function which works exactly like Python's built-in function reduce()"
   ]
  },
  {
   "cell_type": "markdown",
   "metadata": {},
   "source": [
    "### Approch 1:"
   ]
  },
  {
   "cell_type": "code",
   "execution_count": 19,
   "metadata": {},
   "outputs": [
    {
     "name": "stdout",
     "output_type": "stream",
     "text": [
      "How many numbers in the list: 5\n",
      "Enter the number:24\n",
      "Enter the number:32\n",
      "Enter the number:12\n",
      "Enter the number:54\n",
      "Enter the number:26\n",
      "Maximum element in the list: 54\n",
      "Minimum element in the list: 12\n"
     ]
    }
   ],
   "source": [
    "lst=[]\n",
    "num = int(input(\"How many numbers in the list: \"))\n",
    "\n",
    "for i in range(num):\n",
    "    numbers = int(input('Enter the number:'))\n",
    "    lst.append(numbers)\n",
    "\n",
    "print(\"Maximum element in the list:\", max(lst))\n",
    "print(\"Minimum element in the list:\", min(lst))"
   ]
  },
  {
   "cell_type": "markdown",
   "metadata": {},
   "source": [
    "### Approach 2:"
   ]
  },
  {
   "cell_type": "code",
   "execution_count": 20,
   "metadata": {},
   "outputs": [
    {
     "name": "stdout",
     "output_type": "stream",
     "text": [
      "How many numbers in the list: 5\n",
      "Enter the number:12\n",
      "Enter the number:34\n",
      "Enter the number:21\n",
      "Enter the number:67\n",
      "Enter the number:55\n",
      "Highest number in the list:  67\n",
      "Lowest number in the list:  12\n"
     ]
    }
   ],
   "source": [
    "lst=[]\n",
    "num= int(input(\"How many numbers in the list: \"))\n",
    "\n",
    "for i in range(num):\n",
    "    numbers = int(input('Enter the number:'))\n",
    "    lst.append(numbers)\n",
    "    \n",
    "lst.sort()\n",
    "\n",
    "print(\"Highest number in the list: \", lst[-1])\n",
    "print(\"Lowest number in the list: \", lst[0])"
   ]
  },
  {
   "cell_type": "markdown",
   "metadata": {},
   "source": [
    "## Write a Python program to implement your own myfilter() function which works exactly like Python's built-in function filter()"
   ]
  },
  {
   "cell_type": "code",
   "execution_count": 26,
   "metadata": {},
   "outputs": [],
   "source": [
    "def check_even(num):\n",
    "    if num%2==0:\n",
    "        print(num, \" is Even\")\n",
    "    else:\n",
    "        None"
   ]
  },
  {
   "cell_type": "code",
   "execution_count": 27,
   "metadata": {},
   "outputs": [
    {
     "name": "stdout",
     "output_type": "stream",
     "text": [
      "2  is Even\n",
      "4  is Even\n",
      "8  is Even\n"
     ]
    }
   ],
   "source": [
    "lst=[2,4,5,7,8,9]\n",
    "\n",
    "for i in range(len(lst)):\n",
    "    check_even(lst[i])"
   ]
  },
  {
   "cell_type": "markdown",
   "metadata": {},
   "source": [
    "# Implement List comprehensions to produce the following lists."
   ]
  },
  {
   "cell_type": "markdown",
   "metadata": {},
   "source": [
    "## Write List comprehensions to produce the following Lists"
   ]
  },
  {
   "cell_type": "code",
   "execution_count": 35,
   "metadata": {},
   "outputs": [
    {
     "name": "stdout",
     "output_type": "stream",
     "text": [
      "['A', 'C', 'A', 'D', 'G', 'I', 'L', 'D']\n"
     ]
    }
   ],
   "source": [
    "string = \"ACADGILD\"\n",
    "\n",
    "lst = [i for i in string]\n",
    "\n",
    "print(lst)\n",
    "    "
   ]
  },
  {
   "cell_type": "code",
   "execution_count": 78,
   "metadata": {},
   "outputs": [
    {
     "name": "stdout",
     "output_type": "stream",
     "text": [
      "['xx', 'yy', 'zz']\n"
     ]
    }
   ],
   "source": [
    "string='xyz'\n",
    "\n",
    "lst2 = [i+i for i in string]\n",
    "\n",
    "print(lst2)"
   ]
  },
  {
   "cell_type": "code",
   "execution_count": null,
   "metadata": {},
   "outputs": [],
   "source": []
  },
  {
   "cell_type": "markdown",
   "metadata": {},
   "source": [
    "## Implement a function longestWord() that takes a list of words and returns the longest one."
   ]
  },
  {
   "cell_type": "code",
   "execution_count": 77,
   "metadata": {},
   "outputs": [
    {
     "name": "stdout",
     "output_type": "stream",
     "text": [
      "(12, 'Vivekanandan')\n"
     ]
    }
   ],
   "source": [
    "def find_longest(lst):\n",
    "    word_len=[]\n",
    "    for n in lst:\n",
    "        word_len.append((len(n),n))\n",
    "    word_len.sort()\n",
    "    return word_len[-1]\n",
    "\n",
    "print(find_longest(['Meghana','Vivekanandan','Adithya']))\n"
   ]
  },
  {
   "cell_type": "code",
   "execution_count": null,
   "metadata": {},
   "outputs": [],
   "source": []
  },
  {
   "cell_type": "code",
   "execution_count": null,
   "metadata": {},
   "outputs": [],
   "source": []
  },
  {
   "cell_type": "markdown",
   "metadata": {},
   "source": [
    "## Write a Python Program(with class concepts) to find the area of the triangle using the below formula. \n",
    "## area = (s*(s-a)*(s-b)*(s-c)) ** 0.5\n",
    "## Function to take the length of the sides of triangle from user should be defined in the parent class and function to calculate the area should be defined in subclass"
   ]
  },
  {
   "cell_type": "code",
   "execution_count": 108,
   "metadata": {},
   "outputs": [
    {
     "name": "stdout",
     "output_type": "stream",
     "text": [
      "Please enter the first side of a triangle: 6\n",
      "Please enter the second side of a triangle: 3\n",
      "Please enter the third side of a triangle: 1\n",
      "(3.8726732145403874e-16+6.324555320336759j)\n"
     ]
    }
   ],
   "source": [
    "a = int(input('Please enter the first side of a triangle: '))\n",
    "b = int(input('Please enter the second side of a triangle: '))\n",
    "c = int(input('Please enter the third side of a triangle: '))\n",
    "\n",
    "class Triangle():\n",
    "    def __init__(self, a,b,c):\n",
    "        self.a = a\n",
    "        self.b = b\n",
    "        self.c = c\n",
    "        \n",
    "        \n",
    "        \n",
    "    def area(self):\n",
    "        s=(a+b+c)/2\n",
    "        area=(s*(s-a)*(s-b)*(s-c))**0.5\n",
    "        return area\n",
    "        \n",
    "\n",
    "area_tri = Triangle(a,b,c)\n",
    "print(area_tri.area())"
   ]
  },
  {
   "cell_type": "markdown",
   "metadata": {},
   "source": [
    "## Write a function filter_long_words() that takes a list of words and an integer n and returns the list of words that are longer than n."
   ]
  },
  {
   "cell_type": "code",
   "execution_count": 114,
   "metadata": {},
   "outputs": [
    {
     "data": {
      "text/plain": [
       "['Hello', 'GoodMorning', 'Fill']"
      ]
     },
     "execution_count": 114,
     "metadata": {},
     "output_type": "execute_result"
    }
   ],
   "source": [
    "def  filter_long_words(list_words,n):\n",
    "    output_words =  [words for words in list_words if len(words)>n]\n",
    "    return output_words\n",
    "\n",
    "filter_long_words(['Hi','Hello','GoodMorning','Bye','Fill'],3)"
   ]
  },
  {
   "cell_type": "markdown",
   "metadata": {},
   "source": [
    "## Write a Python program using function concept that maps list of words into a list of integers representing the lengths of the corresponding words."
   ]
  },
  {
   "cell_type": "markdown",
   "metadata": {},
   "source": [
    "### Hint: If a list [ ab,cde,erty] is passed on to the python function output should come as [2,3,4]\n",
    "#### Here 2,3 and 4 are the lengths of the words in the list."
   ]
  },
  {
   "cell_type": "code",
   "execution_count": 120,
   "metadata": {},
   "outputs": [
    {
     "data": {
      "text/plain": [
       "[4, 7, 3]"
      ]
     },
     "execution_count": 120,
     "metadata": {},
     "output_type": "execute_result"
    }
   ],
   "source": [
    "def list_words(words):\n",
    "    return len(words)\n",
    "      \n",
    "words=['dfdf','cddfrge','wef']\n",
    "    \n",
    "output = list(map(list_words,words))\n",
    "\n",
    "output"
   ]
  },
  {
   "cell_type": "code",
   "execution_count": null,
   "metadata": {},
   "outputs": [],
   "source": []
  },
  {
   "cell_type": "code",
   "execution_count": null,
   "metadata": {},
   "outputs": [],
   "source": []
  },
  {
   "cell_type": "markdown",
   "metadata": {},
   "source": [
    "## Write a Python function which takes a character (i.e. a string of length 1) and returns True if it is a vowel, False otherwise"
   ]
  },
  {
   "cell_type": "code",
   "execution_count": 127,
   "metadata": {},
   "outputs": [
    {
     "name": "stdout",
     "output_type": "stream",
     "text": [
      "True\n",
      "False\n",
      "False\n",
      "False\n",
      "True\n",
      "False\n",
      "False\n",
      "False\n",
      "True\n",
      "False\n",
      "False\n",
      "False\n",
      "False\n",
      "False\n",
      "True\n",
      "False\n",
      "False\n",
      "False\n",
      "False\n",
      "False\n",
      "True\n",
      "False\n",
      "False\n",
      "False\n",
      "False\n",
      "False\n"
     ]
    }
   ],
   "source": [
    "def character(chars):\n",
    "    for i in chars:\n",
    "        if i in ('a','e','i','o','u'):\n",
    "            print('True') \n",
    "        else:\n",
    "            print('False')\n",
    "\n",
    "chars = [chr(a) for a in range(ord('a'),ord('z')+1)]\n",
    "character(chars)"
   ]
  },
  {
   "cell_type": "code",
   "execution_count": null,
   "metadata": {},
   "outputs": [],
   "source": []
  }
 ],
 "metadata": {
  "kernelspec": {
   "display_name": "Python 3",
   "language": "python",
   "name": "python3"
  },
  "language_info": {
   "codemirror_mode": {
    "name": "ipython",
    "version": 3
   },
   "file_extension": ".py",
   "mimetype": "text/x-python",
   "name": "python",
   "nbconvert_exporter": "python",
   "pygments_lexer": "ipython3",
   "version": "3.7.4"
  }
 },
 "nbformat": 4,
 "nbformat_minor": 2
}
